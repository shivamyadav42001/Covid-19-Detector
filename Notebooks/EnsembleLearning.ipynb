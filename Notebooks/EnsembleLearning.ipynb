{
 "cells": [
  {
   "cell_type": "code",
   "execution_count": 50,
   "id": "ec6149a0",
   "metadata": {},
   "outputs": [],
   "source": [
    "from tensorflow.keras.models import load_model\n",
    "import matplotlib.pyplot as plt\n",
    "import cv2\n",
    "import numpy as np"
   ]
  },
  {
   "cell_type": "code",
   "execution_count": 51,
   "id": "313aa185",
   "metadata": {},
   "outputs": [],
   "source": [
    "resnet_chest = load_model('resnet_chest.h5')"
   ]
  },
  {
   "cell_type": "code",
   "execution_count": 52,
   "id": "0af1b117",
   "metadata": {},
   "outputs": [],
   "source": [
    "image = cv2.imread(r'C:\\Users\\imarg\\Downloads\\Covid.jpg') # read file \n",
    "image = cv2.cvtColor(image, cv2.COLOR_BGR2RGB) # arrange format as per keras\n",
    "image = cv2.resize(image,(224,224))\n",
    "image = np.array(image) / 255\n",
    "image = np.expand_dims(image, axis=0)"
   ]
  },
  {
   "cell_type": "code",
   "execution_count": 53,
   "id": "eaff0d8b",
   "metadata": {},
   "outputs": [
    {
     "name": "stdout",
     "output_type": "stream",
     "text": [
      "Resnet Predictions:\n",
      "95.14% COVID\n"
     ]
    }
   ],
   "source": [
    "resnet_pred = resnet_chest.predict(image)\n",
    "probability = resnet_pred[0]\n",
    "print(\"Resnet Predictions:\")\n",
    "if probability[0] > 0.5:\n",
    "    resnet_chest_pred = str('%.2f' % (probability[0]*100) + '% COVID') \n",
    "else:\n",
    "    resnet_chest_pred = str('%.2f' % ((1-probability[0])*100) + '% NonCOVID')\n",
    "print(resnet_chest_pred)"
   ]
  },
  {
   "cell_type": "code",
   "execution_count": 54,
   "id": "0015c07d",
   "metadata": {},
   "outputs": [],
   "source": [
    "inceptionv3_chest = load_model('inceptionv3_chest.h5')"
   ]
  },
  {
   "cell_type": "code",
   "execution_count": 55,
   "id": "78153ed4",
   "metadata": {},
   "outputs": [],
   "source": [
    "image = cv2.imread(r'C:\\Users\\imarg\\Downloads\\Covid.jpg') # read file \n",
    "image = cv2.cvtColor(image, cv2.COLOR_BGR2RGB) # arrange format as per keras\n",
    "image = cv2.resize(image,(224,224))\n",
    "image = np.array(image) / 255\n",
    "image = np.expand_dims(image, axis=0)"
   ]
  },
  {
   "cell_type": "code",
   "execution_count": 56,
   "id": "89ee8277",
   "metadata": {},
   "outputs": [
    {
     "name": "stdout",
     "output_type": "stream",
     "text": [
      "Inception Predictions:\n",
      "100.00% COVID\n"
     ]
    }
   ],
   "source": [
    "inception_pred = inceptionv3_chest.predict(image)\n",
    "probability = inception_pred[0]\n",
    "print(\"Inception Predictions:\")\n",
    "if probability[0] > 0.5:\n",
    "    inceptionv3_chest_pred = str('%.2f' % (probability[0]*100) + '% COVID') \n",
    "else:\n",
    "    inceptionv3_chest_pred = str('%.2f' % ((1-probability[0])*100) + '% NonCOVID')\n",
    "print(inceptionv3_chest_pred)"
   ]
  },
  {
   "cell_type": "code",
   "execution_count": 57,
   "id": "4a491ef1",
   "metadata": {},
   "outputs": [],
   "source": [
    "vgg_chest = load_model('vgg_chest.h5')"
   ]
  },
  {
   "cell_type": "code",
   "execution_count": 58,
   "id": "de91ab25",
   "metadata": {},
   "outputs": [],
   "source": [
    "image = cv2.imread(r'C:\\Users\\imarg\\Downloads\\Non_Covid.jpg') # read file \n",
    "image = cv2.cvtColor(image, cv2.COLOR_BGR2RGB) # arrange format as per keras\n",
    "image = cv2.resize(image,(224,224))\n",
    "image = np.array(image) / 255\n",
    "image = np.expand_dims(image, axis=0)"
   ]
  },
  {
   "cell_type": "code",
   "execution_count": 59,
   "id": "4f7634cc",
   "metadata": {},
   "outputs": [
    {
     "name": "stdout",
     "output_type": "stream",
     "text": [
      "VGG Predictions:\n",
      "98.22% NonCOVID\n"
     ]
    }
   ],
   "source": [
    "vgg_pred = vgg_chest.predict(image)\n",
    "probability = vgg_pred[0]\n",
    "print(\"VGG Predictions:\")\n",
    "if probability[0] > 0.5:\n",
    "    vgg_chest_pred = str('%.2f' % (probability[0]*100) + '% COVID') \n",
    "else:\n",
    "    vgg_chest_pred = str('%.2f' % ((1-probability[0])*100) + '% NonCOVID')\n",
    "print(vgg_chest_pred)"
   ]
  },
  {
   "cell_type": "code",
   "execution_count": 60,
   "id": "0d3a1e53",
   "metadata": {},
   "outputs": [],
   "source": [
    "# Ensembled Learning for Chest\n",
    "class Ensemble:\n",
    "    def preprocess(image):\n",
    "        image = cv2.cvtColor(image, cv2.COLOR_BGR2RGB) # arrange format as per keras\n",
    "        image = cv2.resize(image,(224,224))\n",
    "        image = np.array(image) / 255\n",
    "        image = np.expand_dims(image, axis=0)\n",
    "        return (image)\n",
    "    \n",
    "    def predict(image):\n",
    "        resnet_chest = load_model('resnet_chest.h5')\n",
    "        inceptionv3_chest = load_model('inceptionv3_chest.h5')\n",
    "        vgg_chest = load_model('vgg_chest.h5')\n",
    "        resnet_pred = resnet_chest.predict(image)\n",
    "        inception_pred = inceptionv3_chest.predict(image)\n",
    "        vgg_pred = vgg_chest.predict(image)\n",
    "        res_prob = vgg_pred[0][0]\n",
    "        incep_prob = inception_pred[0][0]\n",
    "        vgg_prob = vgg_pred[0][0]\n",
    "        return [res_prob,incep_prob,vgg_prob]\n",
    "    \n",
    "    def final_verdict(final):\n",
    "        var=[]\n",
    "#         print(\"Resnet Predictions:\")\n",
    "        if final[0] > 0.5:\n",
    "            resnet_chest_pred = str('%.2f' % (final[0]*100) + '% COVID') \n",
    "            var.append(1)\n",
    "        else:\n",
    "            resnet_chest_pred = str('%.2f' % ((1-final[0])*100) + '% NonCOVID')\n",
    "            var.append(0)\n",
    "#         print(resnet_chest_pred)\n",
    "        \n",
    "#         print(\"Inception Predictions:\")\n",
    "        if final[1] > 0.5:\n",
    "            inceptionv3_chest_pred = str('%.2f' % (final[1]*100) + '% COVID') \n",
    "            var.append(1)\n",
    "        else:\n",
    "            inceptionv3_chest_pred = str('%.2f' % ((1-final[1])*100) + '% NonCOVID')\n",
    "            var.append(0)\n",
    "#         print(inceptionv3_chest_pred)\n",
    "        \n",
    "#         print(\"VGG Predictions:\")\n",
    "        if final[2] > 0.5:\n",
    "            vgg_chest_pred = str('%.2f' % (final[2]*100) + '% COVID') \n",
    "            var.append(1)\n",
    "        else:\n",
    "            vgg_chest_pred = str('%.2f' % ((1-final[2])*100) + '% NonCOVID')\n",
    "            var.append(0)\n",
    "#         print(vgg_chest_pred)\n",
    "        return (var)\n",
    "    \n",
    "    def judgement(yes_no):\n",
    "        one = yes_no.count(1)\n",
    "        zero = yes_no.count(0)\n",
    "        if one>zero:\n",
    "            print(\"The person has covid.\")\n",
    "        else:\n",
    "            print(\"The person does not have covid.\")"
   ]
  },
  {
   "cell_type": "code",
   "execution_count": 61,
   "id": "dbcdec2b",
   "metadata": {},
   "outputs": [],
   "source": [
    "image = cv2.imread(r'C:\\Users\\imarg\\Downloads\\Covid.jpg') # read file \n",
    "image = Ensemble.preprocess(image)\n",
    "final_acc = Ensemble.predict(image)\n",
    "yes_no = Ensemble.final_verdict(final_acc)"
   ]
  },
  {
   "cell_type": "code",
   "execution_count": 62,
   "id": "84a08ee9",
   "metadata": {},
   "outputs": [
    {
     "name": "stdout",
     "output_type": "stream",
     "text": [
      "The person has covid.\n"
     ]
    }
   ],
   "source": [
    "Ensemble.judgement(yes_no)"
   ]
  }
 ],
 "metadata": {
  "kernelspec": {
   "display_name": "Python 3 (ipykernel)",
   "language": "python",
   "name": "python3"
  },
  "language_info": {
   "codemirror_mode": {
    "name": "ipython",
    "version": 3
   },
   "file_extension": ".py",
   "mimetype": "text/x-python",
   "name": "python",
   "nbconvert_exporter": "python",
   "pygments_lexer": "ipython3",
   "version": "3.9.7"
  }
 },
 "nbformat": 4,
 "nbformat_minor": 5
}
